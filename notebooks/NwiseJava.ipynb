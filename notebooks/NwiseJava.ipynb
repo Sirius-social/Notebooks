{
 "cells": [
  {
   "cell_type": "markdown",
   "id": "5c5399e5-10c5-4dc0-b4d4-cad026df1101",
   "metadata": {
    "pycharm": {
     "name": "#%% md\n"
    }
   },
   "source": [
    "## N-wise DID exchange using Sirius SDK (Java)"
   ]
  },
  {
   "cell_type": "markdown",
   "id": "8108bef9-628b-4f36-963b-b7b7e51a7339",
   "metadata": {
    "pycharm": {
     "name": "#%% md\n"
    }
   },
   "source": [
    "This notebook demonstrates establishing connection between three independent SSI subjects within the [n-wise DID exchange protocol](https://github.com/hyperledger/aries-rfcs/pull/748).\n",
    "To manage the SSI agents we use [Sirius SDK Java](https://github.com/Sirius-social/sirius-sdk-java)."
   ]
  },
  {
   "cell_type": "markdown",
   "id": "98d95d46-2a36-4883-a82d-6d2d4f2224e3",
   "metadata": {
    "pycharm": {
     "name": "#%% md\n"
    }
   },
   "source": [
    "First we add the `sirius-sdk-java` dependency."
   ]
  },
  {
   "cell_type": "code",
   "execution_count": null,
   "id": "2690462b-6ac6-4ed2-8e79-592f6039dbbf",
   "metadata": {
    "pycharm": {
     "name": "#%%\n"
    }
   },
   "outputs": [],
   "source": [
    "%%loadFromPOM\n",
    "<repositories>\n",
    "    <repository>\n",
    "        <id>jitpack.io</id>\n",
    "        <url>https://jitpack.io</url>\n",
    "    </repository>\n",
    "    <repository>\n",
    "        <id>sovrin</id>\n",
    "        <url>https://repo.sovrin.org/repository/maven-public</url>\n",
    "    </repository>\n",
    "</repositories>\n",
    "\n",
    "<dependency>\n",
    "    <groupId>com.github.Sirius-social</groupId>\n",
    "    <artifactId>sirius-sdk-java</artifactId>\n",
    "    <version>ignore_tests-SNAPSHOT</version>\n",
    "</dependency>"
   ]
  },
  {
   "cell_type": "markdown",
   "id": "707f98c1-26ab-463f-8ea1-6bbb9b3e25a6",
   "metadata": {
    "pycharm": {
     "name": "#%% md\n"
    }
   },
   "source": [
    "Define a simple client to listen and receive the incoming messages."
   ]
  },
  {
   "cell_type": "code",
   "execution_count": null,
   "id": "3ccfbd85-4afb-448d-8f46-a57f90914cb8",
   "metadata": {
    "pycharm": {
     "name": "#%%\n"
    }
   },
   "outputs": [],
   "source": [
    "import com.sirius.sdk.agent.aries_rfc.feature_0095_basic_message.Message;\n",
    "import com.sirius.sdk.agent.listener.Event;\n",
    "import com.sirius.sdk.agent.listener.Listener;\n",
    "import com.sirius.sdk.agent.n_wise.NWiseParticipant;\n",
    "import com.sirius.sdk.agent.n_wise.messages.Invitation;\n",
    "import com.sirius.sdk.agent.n_wise.messages.LedgerUpdateNotify;\n",
    "import com.sirius.sdk.hub.Context;\n",
    "import io.reactivex.rxjava3.core.Observable;\n",
    "import io.reactivex.rxjava3.functions.Consumer;\n",
    "import io.reactivex.rxjava3.subjects.ReplaySubject;\n",
    "import io.reactivex.rxjava3.schedulers.Schedulers;\n",
    "import com.sirius.sdk.hub.MobileContext;\n",
    "import com.sirius.sdk.hub.MobileHub;\n",
    "import com.sirius.sdk.hub.CloudContext;\n",
    "import com.sirius.sdk.hub.CloudHub;\n",
    "\n",
    "import java.util.ArrayList;\n",
    "import java.util.List;\n",
    "\n",
    "public class NWiseClient {\n",
    "    \n",
    "    public NWiseClient(CloudHub.Config config, String nickname) {\n",
    "        this.nickname = nickname;\n",
    "        context = new CloudContext(config);\n",
    "        routine();\n",
    "    }\n",
    "\n",
    "    public static class NWiseMessage {\n",
    "        public Message message;\n",
    "        public String nWiseInternalId;\n",
    "        public String senderDid;\n",
    "    }\n",
    "\n",
    "    Context context = null;\n",
    "    boolean loop = false;\n",
    "    String nickname;\n",
    "    List<NWiseMessage> receivedMessages = new ArrayList<>();\n",
    "    ReplaySubject<Event> observable = ReplaySubject.create();\n",
    "\n",
    "    public String createNWise(String nWiseName) {\n",
    "        return context.getNWiseManager().create(nWiseName, nickname);\n",
    "    }\n",
    "\n",
    "    public String acceptInvitation(Invitation invitation) {\n",
    "        return context.getNWiseManager().acceptInvitation(invitation, nickname);\n",
    "    }\n",
    "\n",
    "    public Invitation createNWiseInvitation(String internalId) {\n",
    "        return context.getNWiseManager().createInvitation(internalId);\n",
    "    }\n",
    "\n",
    "    public boolean updateNWise(String internalId) {\n",
    "        return context.getNWiseManager().update(internalId);\n",
    "    }\n",
    "\n",
    "    public List<NWiseParticipant> getNWiseParticipants(String internalId) {\n",
    "        return context.getNWiseManager().getParticipants(internalId);\n",
    "    }\n",
    "\n",
    "    public boolean sendNWiseMessage(String internalId, Message message) {\n",
    "        return context.getNWiseManager().send(internalId, message);\n",
    "    }\n",
    "\n",
    "    public List<NWiseMessage> getReceivedMessages() {\n",
    "        return receivedMessages;\n",
    "    }\n",
    "\n",
    "    public Observable<Event> getEvents() {\n",
    "        return observable;\n",
    "    }\n",
    "\n",
    "    public NWiseParticipant getMe(String internalId) {\n",
    "        return context.getNWiseManager().getMe(internalId, context);\n",
    "    }\n",
    "\n",
    "    public boolean leave(String internalId) {\n",
    "        return context.getNWiseManager().leave(internalId, context);\n",
    "    }\n",
    "\n",
    "    protected void routine() {\n",
    "        Listener listener = context.subscribe();\n",
    "        listener.listen().observeOn(Schedulers.newThread()).subscribe(new Consumer<Event>() {\n",
    "            @Override\n",
    "            public void accept(Event event) {\n",
    "                String nWiseId = context.getNWiseManager().resolveNWiseId(event.getSenderVerkey());\n",
    "                NWiseParticipant sender = context.getNWiseManager().resolveParticipant(event.getSenderVerkey());\n",
    "                String senderNickname = sender != null ? sender.nickname : \"Unknown\";\n",
    "                System.out.println(nickname + \" received new message from \" + senderNickname + \" : \" + event.message().getMessageObj());\n",
    "                if (event.message() instanceof Message) {\n",
    "                    if (nWiseId != null && sender != null) {\n",
    "                        Message message = (Message) event.message();\n",
    "                        NWiseMessage nWiseMessage = new NWiseMessage();\n",
    "                        nWiseMessage.message = message;\n",
    "                        nWiseMessage.nWiseInternalId = context.getNWiseManager().resolveNWiseId(event.getSenderVerkey());\n",
    "                        nWiseMessage.senderDid = sender.did;\n",
    "                        receivedMessages.add(nWiseMessage);\n",
    "                    }\n",
    "                } else if (event.message() instanceof LedgerUpdateNotify) {\n",
    "                    context.getNWiseManager().getNotify(event.getSenderVerkey());\n",
    "                }\n",
    "                observable.onNext(event);\n",
    "            }\n",
    "        }, new Consumer<Throwable>() {\n",
    "            @Override\n",
    "            public void accept(Throwable throwable) throws Throwable {\n",
    "                throwable.printStackTrace();\n",
    "            }\n",
    "        });\n",
    "    }\n",
    "}\n"
   ]
  },
  {
   "cell_type": "markdown",
   "id": "558e0f79-884a-4ae7-96e3-df67c395131d",
   "metadata": {
    "pycharm": {
     "name": "#%% md\n"
    }
   },
   "source": [
    "In this example we have three participants: Alice, Bob and Carol."
   ]
  },
  {
   "cell_type": "code",
   "execution_count": 5,
   "id": "64cfafc4-e949-45f0-b097-86550eecd575",
   "metadata": {
    "pycharm": {
     "name": "#%%\n"
    }
   },
   "outputs": [],
   "source": [
    "import org.json.JSONObject;\n",
    "import com.sirius.sdk.hub.MobileHub;\n",
    "import com.sirius.sdk.hub.CloudHub;\n",
    "import com.sirius.sdk.agent.aries_rfc.feature_0160_connection_protocol.messages.Invitation;\n",
    "import com.sirius.sdk.encryption.P2PConnection;\n",
    "import java.nio.charset.StandardCharsets;\n",
    "\n",
    "JSONObject walletConfig = new JSONObject().\n",
    "    put(\"id\", UUID.randomUUID()).\n",
    "    put(\"storage_type\", \"default\");\n",
    "JSONObject walletCredentials = new JSONObject().\n",
    "    put(\"key\", \"8dvfYSt5d1taSd6yJdpjq4emkwsPDDLYxkNFysFD2cZY\").\n",
    "    put(\"key_derivation_method\", \"RAW\");\n",
    "\n",
    "CloudHub.Config aliceConfig = new CloudHub.Config();\n",
    "aliceConfig.serverUri = \"https://agents.socialsirius.com\";\n",
    "aliceConfig.credentials = \"s7RxiBlpeNq8k8hrx4vlgjb8XFnGQGxTjIQgk74LgYSYAS4TuR1kZZxJg5MS6b+rwsta0b6XT84KQyxKcKkysg==\".getBytes(StandardCharsets.UTF_8);\n",
    "aliceConfig.p2p = new P2PConnection(\n",
    "    \"HYjGQGEtCbLisC2W3eeYxi196ojLV8sSdmGAAHt1Riry\",\n",
    "    \"4MFTdbvvUVnNkQpU7UHJXz1Qea9WqvDXgbkxNetoBhCob45VUDS3Ef5fN3nLBqkGNSG5RftK9RidY7HxYcBp38Lm\",\n",
    "    \"9b5fhAxyXoWP3ZHtpvKEFUf8o47uNcysuSd1c1VDq2yo\");\n",
    "\n",
    "CloudHub.Config bobConfig = new CloudHub.Config();\n",
    "bobConfig.serverUri = \"https://agents.socialsirius.com\";\n",
    "bobConfig.credentials = \"s7RxiBlpeNq8k8hrx4vlgjb8XFnGQGxTjIQgk74LgYSYAS4TuR1kZZxJg5MS6b+roqlm6OClcBVahrlBC6d7pg==\".getBytes(StandardCharsets.UTF_8);\n",
    "bobConfig.p2p = new P2PConnection(\n",
    "    \"BdVo9Ha72yyQmrfqLRn3bAfxj8wgf2uy4Rz7hYvzaf9e\",\n",
    "    \"3spH9x8K4ojQ4qKmqXFL67hK96DvMNAR8oSJhAx3QS2etHPd3xGcsdKZoinu8fpAueHMmbiB9ZLzwyJpXPrDdyj2\",\n",
    "    \"Hju2j1nh5EHk8VHQKHyoHWZrEJbimkVTdYZbhnfMLrmg\");\n",
    "\n",
    "CloudHub.Config carolConfig = new CloudHub.Config();\n",
    "carolConfig.serverUri = \"https://agents.socialsirius.com\";\n",
    "carolConfig.credentials = \"s7RxiBlpeNq8k8hrx4vlgjb8XFnGQGxTjIQgk74LgYSYAS4TuR1kZZxJg5MS6b+rdefbzDIW5SbyYbkI+UYP/Q==\".getBytes(StandardCharsets.UTF_8);\n",
    "carolConfig.p2p = new P2PConnection(\n",
    "    \"DQTDLvkSAjGYmKG5a9EvgvUwJzKXQfQuqxwgYHz6H9jE\",\n",
    "    \"2dUPJxWVbNU1VhsUFAkVNLeq3kG7TghBLum8atfy6C3QAkG4GAYxAWEU4NMy3Qi9BGVdehP7UATaDdhw8g79A2jJ\",\n",
    "    \"HCNPicRwYQHhdQ7Z5nNQ8kaAQkLeetmLctfyZ5GVxDy9\");\n",
    "\n",
    "NWiseClient alice = new NWiseClient(aliceConfig, \"Alice\");\n",
    "NWiseClient bob = new NWiseClient(bobConfig, \"Bob\");\n",
    "NWiseClient carol = new NWiseClient(carolConfig, \"Carol\");"
   ]
  },
  {
   "cell_type": "markdown",
   "id": "e74f57f8-10ae-420a-9a99-c72e4549280c",
   "metadata": {
    "pycharm": {
     "name": "#%% md\n"
    }
   },
   "source": [
    "Alice creates a new n-wise"
   ]
  },
  {
   "cell_type": "code",
   "execution_count": null,
   "id": "31323fea-6ff0-4851-a533-b9e5bb030403",
   "metadata": {
    "pycharm": {
     "name": "#%%\n"
    }
   },
   "outputs": [],
   "source": [
    "String aliceNWiseInternalId = alice.createNWise(\"new n-wise\");"
   ]
  },
  {
   "cell_type": "markdown",
   "id": "8dca273a-0070-463d-b1f0-7973d0832e1b",
   "metadata": {
    "pycharm": {
     "name": "#%% md\n"
    }
   },
   "source": [
    "After creating n-wise, Alice is the only participant in it. She wants to add Bob, so she creates an invitation"
   ]
  },
  {
   "cell_type": "code",
   "execution_count": 7,
   "id": "63cb424f-4f4c-4bdc-bc69-177818c66d22",
   "metadata": {
    "pycharm": {
     "name": "#%%\n"
    }
   },
   "outputs": [],
   "source": [
    "import com.sirius.sdk.agent.n_wise.messages.Invitation;\n",
    "Invitation invitationAliceToBob = alice.createNWiseInvitation(aliceNWiseInternalId);"
   ]
  },
  {
   "cell_type": "markdown",
   "id": "d51a773f-9682-4219-91a4-926cbf98424b",
   "metadata": {
    "pycharm": {
     "name": "#%% md\n"
    }
   },
   "source": [
    "Invitation is a simple json document, so Alice can transfer it to Bob in any convinient way (QR code, e-mail, WhatsApp, DIDComm...)"
   ]
  },
  {
   "cell_type": "code",
   "execution_count": 8,
   "id": "5cc91f81-98b0-47ea-9538-c31100c09ecb",
   "metadata": {
    "pycharm": {
     "name": "#%%\n"
    }
   },
   "outputs": [
    {
     "data": {
      "text/plain": [
       "{\"invitationPrivateKeyBase58\":\"2Q27Kj2EAR66ZmLmDmL6fGRRQFQwDVPcZ8Ws1iRoaUZoXWdJvVYKRBVfygaYLJeJjfUWUaPjfxqHmB3WNSWsZic4\",\"@type\":\"did:sov:BzCbsNYhMrjHiqZDTUASHg;spec/n-wise/1.0/invitation\",\"invitationKeyId\":\"UCCvs9Ys86NHUAGYwS1GhniVv5zwxrQkTZWKAoX48BW\",\"ledgerType\":\"iota@v1.0\",\"@id\":\"5a9e84cc-ddcb-4b53-b19b-c6659c45661a\",\"label\":\"new n-wise\",\"attach\":{\"tag\":\"44ppbwPMngCcLAGjsdtqdjwyr6vux6YxDGszUNaZmq9R\"}}"
      ]
     },
     "execution_count": 8,
     "metadata": {},
     "output_type": "execute_result"
    }
   ],
   "source": [
    "invitationAliceToBob.getMessageObj()"
   ]
  },
  {
   "cell_type": "markdown",
   "id": "d3a9cfeb-023a-467d-964a-d360b352af4c",
   "metadata": {
    "pycharm": {
     "name": "#%% md\n"
    }
   },
   "source": [
    "Bob receives invitation and accepts it"
   ]
  },
  {
   "cell_type": "code",
   "execution_count": 9,
   "id": "cff6ffbf-cad4-4b9d-8784-6c57e9c6f2c6",
   "metadata": {
    "pycharm": {
     "name": "#%%\n"
    }
   },
   "outputs": [],
   "source": [
    "String bobNWiseInternalId = bob.acceptInvitation(invitationAliceToBob);"
   ]
  },
  {
   "cell_type": "markdown",
   "id": "6d8dd50b-4335-41f3-9bf8-a9f563bc21c8",
   "metadata": {
    "pycharm": {
     "name": "#%% md\n"
    }
   },
   "source": [
    "Alice can see, that there are two participants now"
   ]
  },
  {
   "cell_type": "code",
   "execution_count": 13,
   "id": "add80379-dcb9-4d3f-83e2-fe04fa751841",
   "metadata": {
    "pycharm": {
     "name": "#%%\n"
    }
   },
   "outputs": [
    {
     "data": {
      "text/plain": [
       "2"
      ]
     },
     "execution_count": 13,
     "metadata": {},
     "output_type": "execute_result"
    }
   ],
   "source": [
    "alice.updateNWise(aliceNWiseInternalId);\n",
    "alice.getNWiseParticipants(aliceNWiseInternalId).size()"
   ]
  },
  {
   "cell_type": "markdown",
   "id": "110bfbf0-449e-4da7-8ddb-69a3688ef152",
   "metadata": {
    "pycharm": {
     "name": "#%% md\n"
    }
   },
   "source": [
    "Bob can send message to all participants in n-wise"
   ]
  },
  {
   "cell_type": "code",
   "execution_count": 15,
   "id": "6a30c5e7-f8a5-440f-983f-256f680b1b92",
   "metadata": {
    "pycharm": {
     "name": "#%%\n"
    }
   },
   "outputs": [
    {
     "data": {
      "text/plain": [
       "true"
      ]
     },
     "execution_count": 15,
     "metadata": {},
     "output_type": "execute_result"
    }
   ],
   "source": [
    "Message bobToAlice = Message.builder().setContent(\"hello world!\").build();\n",
    "bob.sendNWiseMessage(bobNWiseInternalId, bobToAlice);"
   ]
  },
  {
   "cell_type": "markdown",
   "id": "c24e26ce-bd73-4f21-897d-349633ac9458",
   "metadata": {
    "pycharm": {
     "name": "#%% md\n"
    }
   },
   "source": [
    "Alice receives Bob's message"
   ]
  },
  {
   "cell_type": "code",
   "execution_count": 16,
   "id": "4fd4d41b-cb21-4410-868e-1075962126d3",
   "metadata": {
    "pycharm": {
     "name": "#%%\n"
    }
   },
   "outputs": [
    {
     "name": "stdout",
     "output_type": "stream",
     "text": [
      "Alice received new message from Bob : {\"@type\":\"did:sov:BzCbsNYhMrjHiqZDTUASHg;spec/basicmessage/1.0/message\",\"@id\":\"b25e9452-86d9-4b2b-9995-30fe3c9e3798\",\"content\":\"hello world!\"}\n"
     ]
    },
    {
     "data": {
      "text/plain": [
       "com.sirius.sdk.agent.listener.Event@739eed63"
      ]
     },
     "execution_count": 16,
     "metadata": {},
     "output_type": "execute_result"
    }
   ],
   "source": [
    "alice.getEvents().filter(e -> {\n",
    "    return e.message().getId().equals(bobToAlice.getId());\n",
    "}).timeout(60, TimeUnit.SECONDS).blockingFirst();"
   ]
  },
  {
   "cell_type": "code",
   "execution_count": 17,
   "id": "ecb0a7f6-74b0-454b-9da7-078cf09d8658",
   "metadata": {
    "pycharm": {
     "name": "#%%\n"
    }
   },
   "outputs": [
    {
     "data": {
      "text/plain": [
       "{\"@type\":\"did:sov:BzCbsNYhMrjHiqZDTUASHg;spec/basicmessage/1.0/message\",\"@id\":\"b25e9452-86d9-4b2b-9995-30fe3c9e3798\",\"content\":\"hello world!\"}"
      ]
     },
     "execution_count": 17,
     "metadata": {},
     "output_type": "execute_result"
    }
   ],
   "source": [
    "alice.getReceivedMessages().get(0).message.getMessageObj()"
   ]
  },
  {
   "cell_type": "markdown",
   "id": "473ca594-32fc-433b-a7ee-b838a5b016e1",
   "metadata": {
    "pycharm": {
     "name": "#%% md\n"
    }
   },
   "source": [
    "Bob invites Carol"
   ]
  },
  {
   "cell_type": "code",
   "execution_count": 18,
   "id": "4c7c9333-9d0d-4637-9720-c5cd9c3116e3",
   "metadata": {
    "pycharm": {
     "name": "#%%\n"
    }
   },
   "outputs": [],
   "source": [
    "Invitation invitationBobToCarol = bob.createNWiseInvitation(bobNWiseInternalId);"
   ]
  },
  {
   "cell_type": "code",
   "execution_count": 19,
   "id": "7a201060-ec7c-4de0-b926-77f0dec3b9b3",
   "metadata": {
    "pycharm": {
     "name": "#%%\n"
    }
   },
   "outputs": [],
   "source": [
    "String carolNWiseInternalId = carol.acceptInvitation(invitationBobToCarol);"
   ]
  },
  {
   "cell_type": "code",
   "execution_count": 21,
   "id": "820a0f65-6032-4b61-9dbe-33c480391f03",
   "metadata": {
    "pycharm": {
     "name": "#%%\n"
    }
   },
   "outputs": [
    {
     "data": {
      "text/plain": [
       "3"
      ]
     },
     "execution_count": 21,
     "metadata": {},
     "output_type": "execute_result"
    }
   ],
   "source": [
    "import org.bitcoinj.core.Base58;\n",
    "bob.getEvents().filter(e -> e.getSenderVerkey().equals(\n",
    "    Base58.encode(carol.getMe(carolNWiseInternalId).getVerkey()))).\n",
    "    timeout(60, TimeUnit.SECONDS).blockingFirst();\n",
    "bob.getNWiseParticipants(bobNWiseInternalId).size()"
   ]
  },
  {
   "cell_type": "markdown",
   "id": "d3a8b162-1ef8-4b59-8d41-fa85fb8e0726",
   "metadata": {
    "pycharm": {
     "name": "#%% md\n"
    }
   },
   "source": [
    "Now n-wise contains 3 participants"
   ]
  },
  {
   "cell_type": "markdown",
   "id": "d69e56ca-c4bd-4a84-8186-654a498e3b73",
   "metadata": {
    "pycharm": {
     "name": "#%% md\n"
    }
   },
   "source": [
    "Bob desired to leave the n-wise"
   ]
  },
  {
   "cell_type": "code",
   "execution_count": 22,
   "id": "e97fa95f-4a3b-44ca-a303-0643462b1681",
   "metadata": {
    "pycharm": {
     "name": "#%%\n"
    }
   },
   "outputs": [
    {
     "data": {
      "text/plain": [
       "true"
      ]
     },
     "execution_count": 22,
     "metadata": {},
     "output_type": "execute_result"
    }
   ],
   "source": [
    "bob.leave(bobNWiseInternalId);"
   ]
  },
  {
   "cell_type": "code",
   "execution_count": null,
   "id": "adf33380-b9d8-4be4-9f3c-c584d0b03be0",
   "metadata": {
    "pycharm": {
     "name": "#%%\n"
    }
   },
   "outputs": [],
   "source": []
  }
 ],
 "metadata": {
  "kernelspec": {
   "display_name": "Java",
   "language": "java",
   "name": "java"
  },
  "language_info": {
   "codemirror_mode": "java",
   "file_extension": ".jshell",
   "mimetype": "text/x-java-source",
   "name": "Java",
   "pygments_lexer": "java",
   "version": "11.0.16+8-post-Ubuntu-0ubuntu122.04"
  }
 },
 "nbformat": 4,
 "nbformat_minor": 5
}